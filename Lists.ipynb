{
 "cells": [
  {
   "cell_type": "code",
   "execution_count": 6,
   "metadata": {},
   "outputs": [
    {
     "name": "stdout",
     "output_type": "stream",
     "text": [
      "10\n",
      "9\n",
      "5\n"
     ]
    }
   ],
   "source": [
    "myList = [3, 18, 12, 0, 7, 9, 11, 22, 2, 5]\n",
    "x = len(myList)\n",
    "print(x)\n",
    "print(myList[5])\n",
    "print(myList[9])"
   ]
  },
  {
   "cell_type": "code",
   "execution_count": 7,
   "metadata": {},
   "outputs": [
    {
     "name": "stdout",
     "output_type": "stream",
     "text": [
      "apple\n",
      "banana\n",
      "grape\n",
      "cinnamon\n",
      "apple\n",
      "eggplant\n"
     ]
    }
   ],
   "source": [
    "wordList = [\"apple\", \"banana\", \"grape\", \"cinnamon\", \"apple\", \"eggplant\"]\n",
    "\n",
    "for i in range(len(wordList)):\n",
    "    print(wordList[i])"
   ]
  },
  {
   "cell_type": "code",
   "execution_count": 52,
   "metadata": {},
   "outputs": [
    {
     "name": "stdout",
     "output_type": "stream",
     "text": [
      "['Wares', 'Akhil', 'Doanh', 'Jeanzle', 'Owen']\n"
     ]
    }
   ],
   "source": [
    "names = \"Wares,Akhil,Doanh,Jeanzle,Owen\"\n",
    "nameList = names.split(\",\")\n",
    "print(nameList)"
   ]
  },
  {
   "cell_type": "code",
   "execution_count": 14,
   "metadata": {},
   "outputs": [
    {
     "name": "stdout",
     "output_type": "stream",
     "text": [
      "Wares Akhil Doanh "
     ]
    }
   ],
   "source": [
    "for i in range(len(nameList)):\n",
    "    print(nameList[i], end = \" \")"
   ]
  },
  {
   "cell_type": "code",
   "execution_count": 15,
   "metadata": {},
   "outputs": [
    {
     "name": "stdout",
     "output_type": "stream",
     "text": [
      "Wares Doanh "
     ]
    }
   ],
   "source": [
    "for i in range(0,len(nameList),2):\n",
    "    print(nameList[i], end = \" \")\n",
    "    "
   ]
  },
  {
   "cell_type": "code",
   "execution_count": null,
   "metadata": {},
   "outputs": [],
   "source": [
    "for i in range(0,len(nameList),2):\n",
    "    if i % 2 == 0\n",
    "        print(nameList[i], end = \" \")\n",
    "    "
   ]
  },
  {
   "cell_type": "code",
   "execution_count": 29,
   "metadata": {},
   "outputs": [
    {
     "name": "stdout",
     "output_type": "stream",
     "text": [
      "Akhil\n"
     ]
    }
   ],
   "source": [
    "from random import randrange\n",
    "random = randrange(0, len(nameList))\n",
    "print(nameList[random])"
   ]
  },
  {
   "cell_type": "code",
   "execution_count": 40,
   "metadata": {},
   "outputs": [
    {
     "ename": "SyntaxError",
     "evalue": "invalid syntax (<ipython-input-40-caff162cfa6f>, line 1)",
     "output_type": "error",
     "traceback": [
      "\u001b[0;36m  File \u001b[0;32m\"<ipython-input-40-caff162cfa6f>\"\u001b[0;36m, line \u001b[0;32m1\u001b[0m\n\u001b[0;31m    for random import choice\u001b[0m\n\u001b[0m                    ^\u001b[0m\n\u001b[0;31mSyntaxError\u001b[0m\u001b[0;31m:\u001b[0m invalid syntax\n"
     ]
    }
   ],
   "source": [
    "for random import choice\n",
    "randomName = choice(nameList)\n",
    "print(randomName)"
   ]
  },
  {
   "cell_type": "code",
   "execution_count": 56,
   "metadata": {},
   "outputs": [
    {
     "name": "stdout",
     "output_type": "stream",
     "text": [
      "Owen Jeanzle Doanh Akhil "
     ]
    }
   ],
   "source": [
    "for i in range(len(nameList) -1, 0, -1):\n",
    "    print(nameList[i], end=\" \")"
   ]
  },
  {
   "cell_type": "code",
   "execution_count": 68,
   "metadata": {},
   "outputs": [
    {
     "name": "stdout",
     "output_type": "stream",
     "text": [
      "['Wares', 'Akhil', 'Doanh', 'Jeanzle', 'Owen']\n",
      "['Akhil', 'Doanh']\n"
     ]
    }
   ],
   "source": [
    "nameList\n",
    "print(nameList)\n",
    "slice1 = nameList[1:3]\n",
    "print(slice1)"
   ]
  },
  {
   "cell_type": "code",
   "execution_count": 72,
   "metadata": {},
   "outputs": [
    {
     "name": "stdout",
     "output_type": "stream",
     "text": [
      "WAnae"
     ]
    }
   ],
   "source": [
    "for i in range(len(nameList)):\n",
    "    name = list(nameList[i])\n",
    "    random = randrange(0, len(nameList))\n",
    "    print(name[random], end= \"\")"
   ]
  }
 ],
 "metadata": {
  "kernelspec": {
   "display_name": "Python 3",
   "language": "python",
   "name": "python3"
  },
  "language_info": {
   "codemirror_mode": {
    "name": "ipython",
    "version": 3
   },
   "file_extension": ".py",
   "mimetype": "text/x-python",
   "name": "python",
   "nbconvert_exporter": "python",
   "pygments_lexer": "ipython3",
   "version": "3.6.6"
  }
 },
 "nbformat": 4,
 "nbformat_minor": 2
}
